{
  "nbformat": 4,
  "nbformat_minor": 0,
  "metadata": {
    "colab": {
      "provenance": []
    },
    "kernelspec": {
      "name": "python3",
      "display_name": "Python 3"
    },
    "language_info": {
      "name": "python"
    }
  },
  "cells": [
    {
      "cell_type": "code",
      "execution_count": 1,
      "metadata": {
        "colab": {
          "base_uri": "https://localhost:8080/"
        },
        "id": "z2kUZJ17zV68",
        "outputId": "a9e9481d-934b-4690-b97e-8f9d9f540424"
      },
      "outputs": [
        {
          "output_type": "stream",
          "name": "stdout",
          "text": [
            "nvcc: NVIDIA (R) Cuda compiler driver\n",
            "Copyright (c) 2005-2023 NVIDIA Corporation\n",
            "Built on Tue_Aug_15_22:02:13_PDT_2023\n",
            "Cuda compilation tools, release 12.2, V12.2.140\n",
            "Build cuda_12.2.r12.2/compiler.33191640_0\n"
          ]
        }
      ],
      "source": [
        "\n",
        "!nvcc --version\n",
        ""
      ]
    },
    {
      "cell_type": "code",
      "source": [
        "%%writefile statistics.cpp\n",
        "#include <limits.h>\n",
        "#include <omp.h>\n",
        "#include <stdlib.h>\n",
        "#include <chrono>\n",
        "#include <functional>\n",
        "#include <iostream>\n",
        "#include <string>\n",
        "#include <vector>\n",
        "\n",
        "using std::chrono::duration_cast;\n",
        "using std::chrono::high_resolution_clock;\n",
        "using std::chrono::milliseconds;\n",
        "using namespace std;\n",
        "\n",
        "void s_avg(int arr[], int n) {\n",
        "    long sum = 0L;\n",
        "    int i;\n",
        "    for (i = 0; i < n; i++) {\n",
        "        sum = sum + arr[i];\n",
        "    }\n",
        "    cout << sum / long(n);\n",
        "}\n",
        "\n",
        "void p_avg(int arr[], int n) {\n",
        "    long sum = 0L;\n",
        "    int i;\n",
        "#pragma omp parallel for reduction(+ : sum) num_threads(16)\n",
        "    for (i = 0; i < n; i++) {\n",
        "        sum = sum + arr[i];\n",
        "    }\n",
        "    cout << sum / long(n);\n",
        "}\n",
        "\n",
        "void s_sum(int arr[], int n) {\n",
        "    long sum = 0L;\n",
        "    int i;\n",
        "    for (i = 0; i < n; i++) {\n",
        "        sum = sum + arr[i];\n",
        "    }\n",
        "    cout << sum;\n",
        "}\n",
        "\n",
        "void p_sum(int arr[], int n) {\n",
        "    long sum = 0L;\n",
        "    int i;\n",
        "#pragma omp parallel for reduction(+ : sum) num_threads(16)\n",
        "    for (i = 0; i < n; i++) {\n",
        "        sum = sum + arr[i];\n",
        "    }\n",
        "    cout << sum;\n",
        "}\n",
        "\n",
        "void s_max(int arr[], int n) {\n",
        "    int max_val = INT_MIN;\n",
        "    int i;\n",
        "    for (i = 0; i < n; i++) {\n",
        "        if (arr[i] > max_val) {\n",
        "            max_val = arr[i];\n",
        "        }\n",
        "    }\n",
        "    cout << max_val;\n",
        "}\n",
        "\n",
        "void p_max(int arr[], int n) {\n",
        "    int max_val = INT_MIN;\n",
        "    int i;\n",
        "#pragma omp parallel for reduction(max : max_val) num_threads(16)\n",
        "    for (i = 0; i < n; i++) {\n",
        "        if (arr[i] > max_val) {\n",
        "            max_val = arr[i];\n",
        "        }\n",
        "    }\n",
        "    cout << max_val;\n",
        "}\n",
        "\n",
        "void s_min(int arr[], int n) {\n",
        "    int min_val = INT_MAX;\n",
        "    int i;\n",
        "    for (i = 0; i < n; i++) {\n",
        "        if (arr[i] < min_val) {\n",
        "            min_val = arr[i];\n",
        "        }\n",
        "    }\n",
        "    cout << min_val;\n",
        "}\n",
        "\n",
        "void p_min(int arr[], int n) {\n",
        "    int min_val = INT_MAX;\n",
        "    int i;\n",
        "#pragma omp parallel for reduction(min : min_val) num_threads(16)\n",
        "    for (i = 0; i < n; i++) {\n",
        "        if (arr[i] < min_val) {\n",
        "            min_val = arr[i];\n",
        "        }\n",
        "    }\n",
        "    cout << min_val;\n",
        "}\n",
        "\n",
        "std::string bench_traverse(std::function<void()> traverse_fn) {\n",
        "    auto start = high_resolution_clock::now();\n",
        "    traverse_fn();\n",
        "    cout << \" (\";\n",
        "    auto stop = high_resolution_clock::now();\n",
        "    auto duration = duration_cast<milliseconds>(stop - start);\n",
        "    return std::to_string(duration.count());\n",
        "}\n",
        "\n",
        "int main() {\n",
        "    int n = 100; // Example array length\n",
        "    int rand_max = 1000; // Example maximum random value\n",
        "    int *a = new int[n];\n",
        "    for (int i = 0; i < n; i++) {\n",
        "        a[i] = rand() % rand_max;\n",
        "    }\n",
        "    cout << \"Generated random array of length \" << n << \" with elements between 0 to \" << rand_max << \"\\n\\n\";\n",
        "    cout << \"Given array is =>\\n\";\n",
        "    for (int i = 0; i < n; i++) {\n",
        "        cout << a[i] << \", \";\n",
        "    }\n",
        "    cout << \"\\n\\n\";\n",
        "    omp_set_num_threads(16);\n",
        "    std::cout << \"Sequential Min: \" << bench_traverse([&] { s_min(a, n); }) << \"ms)\\n\";\n",
        "    std::cout << \"Parallel (16) Min: \" << bench_traverse([&] { p_min(a, n); }) << \"ms)\\n\\n\";\n",
        "    std::cout << \"Sequential Max: \" << bench_traverse([&] { s_max(a, n); }) << \"ms)\\n\";\n",
        "    std::cout << \"Parallel (16) Max: \" << bench_traverse([&] { p_max(a, n); }) << \"ms)\\n\\n\";\n",
        "    std::cout << \"Sequential Sum: \" << bench_traverse([&] { s_sum(a, n); }) << \"ms)\\n\";\n",
        "    std::cout << \"Parallel (16) Sum: \" << bench_traverse([&] { p_sum(a, n); }) << \"ms)\\n\\n\";\n",
        "    std::cout << \"Sequential Average: \" << bench_traverse([&] { s_avg(a, n); }) << \"ms)\\n\";\n",
        "    std::cout << \"Parallel (16) Average: \" << bench_traverse([&] { p_avg(a, n); }) << \"ms)\\n\";\n",
        "    delete[] a; // Free allocated memory\n",
        "    return 0;\n",
        "}"
      ],
      "metadata": {
        "colab": {
          "base_uri": "https://localhost:8080/"
        },
        "id": "BMPntyG496_b",
        "outputId": "03ea61b9-5f56-4391-e38e-95eb8a59c7c9"
      },
      "execution_count": 2,
      "outputs": [
        {
          "output_type": "stream",
          "name": "stdout",
          "text": [
            "Writing statistics.cpp\n"
          ]
        }
      ]
    },
    {
      "cell_type": "code",
      "source": [
        "!g++ -g statistics.cpp -lgomp -fopenmp -Wall -o statistics && ./statistics 1000 100"
      ],
      "metadata": {
        "colab": {
          "base_uri": "https://localhost:8080/"
        },
        "id": "4Sc5jZIlBfcy",
        "outputId": "5f62bdfe-ba6b-4078-d6f6-07c2e4e2dab6"
      },
      "execution_count": 3,
      "outputs": [
        {
          "output_type": "stream",
          "name": "stdout",
          "text": [
            "Generated random array of length 100 with elements between 0 to 1000\n",
            "\n",
            "Given array is =>\n",
            "383, 886, 777, 915, 793, 335, 386, 492, 649, 421, 362, 27, 690, 59, 763, 926, 540, 426, 172, 736, 211, 368, 567, 429, 782, 530, 862, 123, 67, 135, 929, 802, 22, 58, 69, 167, 393, 456, 11, 42, 229, 373, 421, 919, 784, 537, 198, 324, 315, 370, 413, 526, 91, 980, 956, 873, 862, 170, 996, 281, 305, 925, 84, 327, 336, 505, 846, 729, 313, 857, 124, 895, 582, 545, 814, 367, 434, 364, 43, 750, 87, 808, 276, 178, 788, 584, 403, 651, 754, 399, 932, 60, 676, 368, 739, 12, 226, 586, 94, 539, \n",
            "\n",
            "Sequential Min: 11 (0ms)\n",
            "Parallel (16) Min: 11 (0ms)\n",
            "\n",
            "Sequential Max: 996 (0ms)\n",
            "Parallel (16) Max: 996 (0ms)\n",
            "\n",
            "Sequential Sum: 47684 (0ms)\n",
            "Parallel (16) Sum: 47684 (0ms)\n",
            "\n",
            "Sequential Average: 476 (0ms)\n",
            "Parallel (16) Average: 476 (0ms)\n"
          ]
        }
      ]
    }
  ]
}